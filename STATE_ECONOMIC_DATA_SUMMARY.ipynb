{
  "nbformat": 4,
  "nbformat_minor": 0,
  "metadata": {
    "colab": {
      "name": "STATE_ECONOMIC_DATA_SUMMARY",
      "provenance": [],
      "private_outputs": true,
      "collapsed_sections": [],
      "machine_shape": "hm",
      "authorship_tag": "ABX9TyOhtvPd6gOmHio/NDatlYIz",
      "include_colab_link": true
    },
    "kernelspec": {
      "name": "python3",
      "display_name": "Python 3"
    }
  },
  "cells": [
    {
      "cell_type": "markdown",
      "metadata": {
        "id": "view-in-github",
        "colab_type": "text"
      },
      "source": [
        "<a href=\"https://colab.research.google.com/github/JarredParrettDickinson/AG_DATA_ANALYSIS/blob/master/STATE_ECONOMIC_DATA_SUMMARY.ipynb\" target=\"_parent\"><img src=\"https://colab.research.google.com/assets/colab-badge.svg\" alt=\"Open In Colab\"/></a>"
      ]
    },
    {
      "cell_type": "markdown",
      "metadata": {
        "id": "bRGEZDQlohwt",
        "colab_type": "text"
      },
      "source": [
        "#Welcome to my widget to present State Economic Agricultre Data Geographically.\n",
        "## The following steps will direct you to operate the notebook if you are not familiar. \n",
        "\n",
        "\n",
        "1.   On the header of the Google CoLab, select `Runtime` -> `Run All`\n",
        "2.   Scroll down to `Using the interactive portion` below to plot on a map \n",
        "\n",
        "\n",
        "\n",
        "\n"
      ]
    },
    {
      "cell_type": "code",
      "metadata": {
        "id": "EJ9EEPhKOskw",
        "colab_type": "code",
        "colab": {}
      },
      "source": [
        "import pandas as pd\n",
        "import plotly\n",
        "import plotly.express as px\n",
        "from gzip import GzipFile\n",
        "import requests\n",
        "from urllib.request import Request, urlopen\n",
        "import urllib.request as ur\n",
        "import numpy as np\n",
        "import requests\n",
        "import json\n",
        "from pandas.io.json import json_normalize \n",
        "import io\n",
        "from ipywidgets import widgets\n",
        "import math\n",
        "from google.colab import drive\n",
        "import urllib\n",
        "from urllib.request import urlopen\n",
        "import json\n",
        "with urlopen('https://raw.githubusercontent.com/plotly/datasets/master/geojson-counties-fips.json') as response:\n",
        "    counties = json.load(response)\n",
        "from IPython.display import display\n",
        "import plotly.graph_objects as go\n",
        "from plotly.offline import download_plotlyjs, init_notebook_mode, plot, iplot\n",
        "from plotly.graph_objs import *\n",
        "import datetime as dt\n",
        "from urllib.request import urlopen"
      ],
      "execution_count": 0,
      "outputs": []
    },
    {
      "cell_type": "code",
      "metadata": {
        "id": "ybqcGtvdtndn",
        "colab_type": "code",
        "colab": {}
      },
      "source": [
        "def get_ftp_file_names_economic():\n",
        "    #get file names\n",
        "    try:\n",
        "        import urllib.request as urllib2\n",
        "    except ImportError:\n",
        "        import urllib2\n",
        "    import re\n",
        "    urlpath =urlopen('ftp://ftp.nass.usda.gov/quickstats')\n",
        "    string = urlpath.read().decode('utf-8')\n",
        "    split = string.split('\\n')\n",
        "    file_names = []\n",
        "    for line in split:\n",
        "      sub_split = line.split(' ')\n",
        "      name = sub_split[-1]\n",
        "      file_names.append(name)\n",
        "    for name in file_names:\n",
        "      if \"economic\" in name:\n",
        "          print(name)\n",
        "          return name\n",
        "\n",
        "def pull_files(file_name):\n",
        "  file_name = file_name[0:-1]\n",
        "  ftp_path ='ftp://ftp.nass.usda.gov/quickstats/'+str(file_name)\n",
        "  return ftp_path"
      ],
      "execution_count": 0,
      "outputs": []
    },
    {
      "cell_type": "code",
      "metadata": {
        "id": "qu1MV3Tupi__",
        "colab_type": "code",
        "colab": {}
      },
      "source": [
        "#Get Data from USDA FTP server - this may take a minute\n",
        "file_name = get_ftp_file_names_economic()\n",
        "url = pull_files(file_name)\n",
        "print(url)\n",
        "req = ur.Request(url) #  gz file on ftp (ensure startswith 'ftp://')\n",
        "z_f = ur.urlopen(req)\n",
        "f = GzipFile(fileobj=z_f, mode=\"r\")\n",
        "df = pd.read_csv(f, sep='\\t')"
      ],
      "execution_count": 0,
      "outputs": []
    },
    {
      "cell_type": "markdown",
      "metadata": {
        "id": "qkk-vGmo0llh",
        "colab_type": "text"
      },
      "source": [
        "# Select State by changing it too the value below to the states initials\n",
        "## Note at this point in time NJ is the only state\n",
        "\n"
      ]
    },
    {
      "cell_type": "code",
      "metadata": {
        "id": "6SKogj2FPFoo",
        "colab_type": "code",
        "colab": {}
      },
      "source": [
        "STATE = \"NJ\""
      ],
      "execution_count": 0,
      "outputs": []
    },
    {
      "cell_type": "code",
      "metadata": {
        "id": "UaUrK3SR0q_1",
        "colab_type": "code",
        "colab": {}
      },
      "source": [
        "  df_economic = df.loc[((df[\"STATE_ALPHA\"] == STATE))]"
      ],
      "execution_count": 0,
      "outputs": []
    },
    {
      "cell_type": "code",
      "metadata": {
        "id": "VC1xVGAUez3G",
        "colab_type": "code",
        "colab": {}
      },
      "source": [
        "def add_county_fip(df):\n",
        "  look_up_dict = {\"ATLANTIC\":\"34001\",\"BERGEN\":\"34003\",\"BURLINGTON\":\"34005\",\"CAMDEN\":\"34007\",\"CAPE MAY\":\"34009\",\"CUMBERLAND\":\"34011\",\"ESSEX\":\"34013\",\"GLOUCESTER\":\"34015\",\"HUDSON\":\"34017\",\"HUNTERDON\":\"34019\",\"MERCER\":\"34021\",\"MIDDLESEX\":\"34023\",\"MONMOUTH\":\"34025\",\"MORRIS\":\"34027\",\"OCEAN\":\"34029\",\"PASSAIC\":\"34031\",\"SALEM\":\"34033\",\"SOMERSET\":\"34035\",\"SUSSEX\":\"34037\",\"UNION\":\"34039\",\"WARREN\":\"34041\"}\n",
        "  fip = []\n",
        "  for ind in df.index:\n",
        "    county = (df[\"COUNTY_NAME\"][ind])\n",
        "    code = look_up_dict[county]\n",
        "    fip.append(str(code))\n",
        "  df[\"COUNTY_FIP\"]=fip\n",
        "  return df\n",
        "\n",
        "def value_convert(df_economic):\n",
        "  arr = df_economic[\"VALUE\"]\n",
        "  arr_out = []\n",
        "  for val in arr:\n",
        "    string_val = str(val)\n",
        "    string_val=string_val.replace(\",\", \"\")\n",
        "    if string_val == '(D)' or string_val == '(z)' or string_val == '(Z)':\n",
        "      string_val = \"0\"\n",
        "    arr_out.append(float(string_val))\n",
        "  df_economic[\"VALUE\"] = arr_out\n",
        "  return df_economic\n",
        "\n",
        "def make_widget_year(frame):\n",
        "  YEAR = widgets.Dropdown(\n",
        "      options=sorted(frame.YEAR.unique()),\n",
        "      description=\"YEAR:\",\n",
        "      disabled=False)\n",
        "  display(YEAR)\n",
        "  return YEAR\n",
        "\n",
        "def make_plot(df_economcic_sub):\n",
        "  fig = px.choropleth_mapbox(df_economcic_sub, geojson=counties, locations='COUNTY_FIP', color='VALUE',\n",
        "                           color_continuous_scale=\"Viridis\",\n",
        "                           mapbox_style=\"carto-positron\",\n",
        "                           zoom=6, center = {\"lat\": 40.5, \"lon\": -74.871826},\n",
        "                           opacity=0.8, hover_name=\"COUNTY_NAME\"\n",
        "                          )\n",
        "  fig.update_layout(margin={\"r\":0,\"t\":0,\"l\":0,\"b\":0})\n",
        "  #fig = go.FigureWidget()\n",
        "  #trace = go.Choroplethmapbox(geojson=counties, locations=df_economcic_sub.COUNTY_FIP, z=df_economcic_sub.VALUE,\n",
        "  #                                  colorscale=\"Viridis\", \n",
        "  #                                  marker_opacity=.8, marker_line_width=.5)\n",
        "  #fig.update_layout(mapbox_style=\"carto-positron\",mapbox_zoom = 6,\n",
        "  #                mapbox_center = {\"lat\": 40.5, \"lon\": -74.871826})\n",
        "  #\n",
        "  #fig.update_layout(margin={\"r\":0,\"t\":0,\"l\":0,\"b\":0})\n",
        "  #fig.add_trace(trace)\n",
        "  return fig  \n",
        "\n",
        "def check(in_put, dataframe):    \n",
        "  SHORT_DESC_ARR = dataframe.SHORT_DESC.unique()\n",
        "  if in_put in SHORT_DESC_ARR:\n",
        "      df_economcic_sub = dataframe[(dataframe[\"SHORT_DESC\"] == (in_put))]\n",
        "  else:\n",
        "      df_economcic_sub = dataframe[(dataframe[\"YEAR\"] == int(in_put))]\n",
        "  arr_year = df_economcic_sub.YEAR.unique()\n",
        "  arr_year_frames = {}\n",
        "  if(len(arr_year) > 1):\n",
        "      for year in arr_year:\n",
        "          df_economcic_sub_year = df_economcic_sub[(df_economcic_sub[\"YEAR\"] == (year))]\n",
        "          arr_year_frames[year]=(df_economcic_sub_year)\n",
        "      widget_year = make_widget_year(df_economcic_sub)\n",
        "      return arr_year_frames, widget_year\n",
        "  else:\n",
        "      cat = str(df_economcic_sub.iloc[0]['SHORT_DESC']) \n",
        "      year = str(df_economcic_sub.iloc[0]['YEAR']) \n",
        "      string = cat + \" \" + year\n",
        "      print(string)\n",
        "      fig = make_plot(df_economcic_sub)\n",
        "      fig.show()\n",
        "      return (0,0)"
      ],
      "execution_count": 0,
      "outputs": []
    },
    {
      "cell_type": "code",
      "metadata": {
        "id": "p82kkohZPzhc",
        "colab_type": "code",
        "colab": {}
      },
      "source": [
        "COUNTY_ARR = ['BERGEN', 'ESSEX', 'HUNTERDON', 'MORRIS', 'PASSAIC',\n",
        "       'SOMERSET', 'SUSSEX', 'UNION', 'WARREN', 'BURLINGTON', 'MERCER',\n",
        "       'MIDDLESEX', 'MONMOUTH', 'OCEAN', 'ATLANTIC', 'CAMDEN', 'CAPE MAY',\n",
        "       'CUMBERLAND', 'GLOUCESTER', 'SALEM', 'HUDSON']\n",
        "for ind in df_economic.index:\n",
        "  COUNTY = df_economic[\"COUNTY_NAME\"][ind]\n",
        "  if COUNTY not in COUNTY_ARR:\n",
        "    df_economic.at[ind, 'COUNTY_NAME'] = \"drop\"\n",
        "df_economic = df_economic[(df_economic[\"COUNTY_NAME\"] != 'drop')]\n",
        "df_economic=add_county_fip(df_economic)\n",
        "df_economic=value_convert(df_economic)"
      ],
      "execution_count": 0,
      "outputs": []
    },
    {
      "cell_type": "markdown",
      "metadata": {
        "id": "2HlXetm_mxm7",
        "colab_type": "text"
      },
      "source": [
        "# Using the interactive portion\n",
        "### As I am still working out the kinks, this is a multistep process. Please follow the below steps to see data plotted on a map\n",
        "\n",
        "1.   Begin by running the below box with the comment **Box 1** - this will present the first interactive drop down to allow you to select the data by description\n",
        "2.   Next run **Box 2** which will either present the plot if there is only a single year for the data. Otherwise, it will present an additional drop down of year \n",
        "3.  Finally, after selecting a year run **Box 3** which will present the output map\n",
        "\n"
      ]
    },
    {
      "cell_type": "code",
      "metadata": {
        "id": "Y40E0lcaFR8i",
        "colab_type": "code",
        "colab": {}
      },
      "source": [
        "#Box 1\n",
        "SHORT_DESC = widgets.Dropdown(\n",
        "      options=sorted(df_economic.SHORT_DESC.unique()),\n",
        "      description='SHORT DESCRIPTION:',\n",
        "      disabled=False)\n",
        "display(SHORT_DESC)"
      ],
      "execution_count": 0,
      "outputs": []
    },
    {
      "cell_type": "code",
      "metadata": {
        "id": "keaYOrvvEIbY",
        "colab_type": "code",
        "colab": {}
      },
      "source": [
        "#Box 2\n",
        "#after selecting in above menu, run me - I will either present a map or offer you a list of years\n",
        "entry_A = SHORT_DESC.value\n",
        "frames_A,YEAR_A = check(entry_A, df_economic)"
      ],
      "execution_count": 0,
      "outputs": []
    },
    {
      "cell_type": "code",
      "metadata": {
        "id": "CTsu-1HRGArJ",
        "colab_type": "code",
        "colab": {}
      },
      "source": [
        "#Box 3\n",
        "#if map did not display above, select a year from the above dropdown and run me\n",
        "entry = YEAR_A.value\n",
        "frames,YEAR = check(entry, frames_A[entry])"
      ],
      "execution_count": 0,
      "outputs": []
    }
  ]
}