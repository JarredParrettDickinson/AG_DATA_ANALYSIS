{
  "nbformat": 4,
  "nbformat_minor": 0,
  "metadata": {
    "colab": {
      "name": "AG DATA UPDATE",
      "provenance": [],
      "authorship_tag": "ABX9TyMAK4zB8a5vqfhGmtpislvF",
      "include_colab_link": true
    },
    "kernelspec": {
      "name": "python3",
      "display_name": "Python 3"
    }
  },
  "cells": [
    {
      "cell_type": "markdown",
      "metadata": {
        "id": "view-in-github",
        "colab_type": "text"
      },
      "source": [
        "<a href=\"https://colab.research.google.com/github/JarredParrettDickinson/AG_DATA_ANALYSIS/blob/master/AG_DATA_UPDATE.ipynb\" target=\"_parent\"><img src=\"https://colab.research.google.com/assets/colab-badge.svg\" alt=\"Open In Colab\"/></a>"
      ]
    },
    {
      "cell_type": "markdown",
      "metadata": {
        "id": "55zIIzPMnsdR",
        "colab_type": "text"
      },
      "source": [
        "# To update files delete all from /content/gdrive/My Drive/AG_FOLDER/US_AG_DATA/ and Runtime - to add multi threading"
      ]
    },
    {
      "cell_type": "code",
      "metadata": {
        "id": "wh1yyy_Q3wD9",
        "colab_type": "code",
        "outputId": "00f0b037-0cd4-4bf4-853f-8229dd003f00",
        "colab": {
          "base_uri": "https://localhost:8080/",
          "height": 34
        }
      },
      "source": [
        "import requests\n",
        "import io\n",
        "import urllib.request\n",
        "from google.colab import drive\n",
        "from urllib.request import urlopen\n",
        "drive.mount(\"/content/gdrive\")"
      ],
      "execution_count": 0,
      "outputs": [
        {
          "output_type": "stream",
          "text": [
            "Drive already mounted at /content/gdrive; to attempt to forcibly remount, call drive.mount(\"/content/gdrive\", force_remount=True).\n"
          ],
          "name": "stdout"
        }
      ]
    },
    {
      "cell_type": "code",
      "metadata": {
        "id": "nzFLsAB9p91H",
        "colab_type": "code",
        "outputId": "8a0423ab-35aa-415c-812c-32ce368e9f30",
        "colab": {
          "base_uri": "https://localhost:8080/",
          "height": 34
        }
      },
      "source": [
        "!rm \"/content/gdrive/My Drive/AG_FOLDER/US_AG_DATA/\"*"
      ],
      "execution_count": 0,
      "outputs": [
        {
          "output_type": "stream",
          "text": [
            "rm: cannot remove '/content/gdrive/My Drive/AG_FOLDER/US_AG_DATA/*': No such file or directory\n"
          ],
          "name": "stdout"
        }
      ]
    },
    {
      "cell_type": "code",
      "metadata": {
        "id": "4_dE48wEX5KM",
        "colab_type": "code",
        "colab": {}
      },
      "source": [
        "def get_ftp_file_names():\n",
        "    #get file names\n",
        "    try:\n",
        "        import urllib.request as urllib2\n",
        "    except ImportError:\n",
        "        import urllib2\n",
        "    import re\n",
        "    urlpath =urlopen('ftp://ftp.nass.usda.gov/quickstats')\n",
        "    string = urlpath.read().decode('utf-8')\n",
        "    split = string.split('\\n')\n",
        "    file_names = []\n",
        "    for line in split:\n",
        "      sub_split = line.split(' ')\n",
        "      name = sub_split[-1]\n",
        "      file_names.append(name)\n",
        "    return file_names"
      ],
      "execution_count": 0,
      "outputs": []
    },
    {
      "cell_type": "code",
      "metadata": {
        "id": "blPhvclN3_JV",
        "colab_type": "code",
        "colab": {}
      },
      "source": [
        "def pull_files(file_names):\n",
        "  ftp_path ='ftp://ftp.nass.usda.gov/quickstats/'\n",
        "  file_path=\"/content/gdrive/My Drive/AG_FOLDER/US_AG_DATA/\"\n",
        "  pairs = []\n",
        "  for file_name in file_names:\n",
        "      file_name = file_name[0:-1]\n",
        "      complete_ptah = str(ftp_path+file_name)\n",
        "      out_path = str(file_path+file_name)\n",
        "      if out_path == \"/content/gdrive/My Drive/AG_FOLDER/US_AG_DATA/\":\n",
        "          return pairs\n",
        "      pair = (complete_ptah,out_path)\n",
        "      pairs.append(pair)\n",
        "  return pairs"
      ],
      "execution_count": 0,
      "outputs": []
    },
    {
      "cell_type": "code",
      "metadata": {
        "id": "0tDmcdHRaS1a",
        "colab_type": "code",
        "outputId": "3b5c1bfc-f747-4126-d048-78e221ed391d",
        "colab": {
          "base_uri": "https://localhost:8080/",
          "height": 443
        }
      },
      "source": [
        "file_names = get_ftp_file_names()\n",
        "pairs = pull_files(file_names)\n",
        "for pair in pairs:\n",
        "    print(pair[0])\n",
        "    print(pair[1])\n",
        "    urllib.request.urlretrieve(pair[0], pair[1])"
      ],
      "execution_count": 0,
      "outputs": [
        {
          "output_type": "stream",
          "text": [
            "ftp://ftp.nass.usda.gov/quickstats/qs.animals_products_20200505.txt.gz\n",
            "/content/gdrive/My Drive/AG_FOLDER/US_AG_DATA/qs.animals_products_20200505.txt.gz\n",
            "ftp://ftp.nass.usda.gov/quickstats/qs.census2002.txt.gz\n",
            "/content/gdrive/My Drive/AG_FOLDER/US_AG_DATA/qs.census2002.txt.gz\n",
            "ftp://ftp.nass.usda.gov/quickstats/qs.census2007.txt.gz\n",
            "/content/gdrive/My Drive/AG_FOLDER/US_AG_DATA/qs.census2007.txt.gz\n",
            "ftp://ftp.nass.usda.gov/quickstats/qs.census2007zipcode.txt.gz\n",
            "/content/gdrive/My Drive/AG_FOLDER/US_AG_DATA/qs.census2007zipcode.txt.gz\n",
            "ftp://ftp.nass.usda.gov/quickstats/qs.census2012.txt.gz\n",
            "/content/gdrive/My Drive/AG_FOLDER/US_AG_DATA/qs.census2012.txt.gz\n",
            "ftp://ftp.nass.usda.gov/quickstats/qs.census2017.txt.gz\n",
            "/content/gdrive/My Drive/AG_FOLDER/US_AG_DATA/qs.census2017.txt.gz\n",
            "ftp://ftp.nass.usda.gov/quickstats/qs.census2017zipcode.txt.gz\n",
            "/content/gdrive/My Drive/AG_FOLDER/US_AG_DATA/qs.census2017zipcode.txt.gz\n",
            "ftp://ftp.nass.usda.gov/quickstats/qs.crops_20200505.txt.gz\n",
            "/content/gdrive/My Drive/AG_FOLDER/US_AG_DATA/qs.crops_20200505.txt.gz\n",
            "ftp://ftp.nass.usda.gov/quickstats/qs.demographics_20200505.txt.gz\n",
            "/content/gdrive/My Drive/AG_FOLDER/US_AG_DATA/qs.demographics_20200505.txt.gz\n",
            "ftp://ftp.nass.usda.gov/quickstats/qs.economics_20200505.txt.gz\n",
            "/content/gdrive/My Drive/AG_FOLDER/US_AG_DATA/qs.economics_20200505.txt.gz\n",
            "ftp://ftp.nass.usda.gov/quickstats/qs.environmental_20200505.txt.gz\n",
            "/content/gdrive/My Drive/AG_FOLDER/US_AG_DATA/qs.environmental_20200505.txt.gz\n",
            "ftp://ftp.nass.usda.gov/quickstats/qs.sample.txt\n",
            "/content/gdrive/My Drive/AG_FOLDER/US_AG_DATA/qs.sample.txt\n"
          ],
          "name": "stdout"
        }
      ]
    }
  ]
}